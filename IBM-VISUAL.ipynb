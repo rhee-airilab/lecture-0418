{
 "cells": [
  {
   "cell_type": "code",
   "execution_count": 1,
   "metadata": {
    "collapsed": false,
    "deletable": true,
    "editable": true
   },
   "outputs": [
    {
     "data": {
      "text/plain": [
       "{'api_key': 'XXXXXXXXX',\n",
       " 'note': 'It may take up to 5 minutes for this key to become active',\n",
       " 'url': 'https://gateway-a.watsonplatform.net/visual-recognition/api'}"
      ]
     },
     "execution_count": 1,
     "metadata": {},
     "output_type": "execute_result"
    }
   ],
   "source": [
    "#%%file ../creds/ibm-visual-auth.json\n",
    "{\n",
    "  \"url\": \"https://gateway-a.watsonplatform.net/visual-recognition/api\",\n",
    "  \"note\": \"It may take up to 5 minutes for this key to become active\",\n",
    "  \"api_key\": \"XXXXXXXXX\"\n",
    "}"
   ]
  },
  {
   "cell_type": "code",
   "execution_count": 2,
   "metadata": {
    "collapsed": true,
    "deletable": true,
    "editable": true
   },
   "outputs": [],
   "source": [
    "import json\n",
    "with open('../creds/ibm-visual-auth.json') as f: auth = json.load(f)\n",
    "api_key = auth['api_key']"
   ]
  },
  {
   "cell_type": "code",
   "execution_count": 3,
   "metadata": {
    "collapsed": false,
    "deletable": true,
    "editable": true
   },
   "outputs": [],
   "source": [
    "#!pip install --upgrade requests"
   ]
  },
  {
   "cell_type": "raw",
   "metadata": {
    "collapsed": true,
    "deletable": true,
    "editable": true
   },
   "source": [
    "![](https://github.com/watson-developer-cloud/doc-tutorial-downloads/raw/master/visual-recognition/fruitbowl.jpg)"
   ]
  },
  {
   "cell_type": "markdown",
   "metadata": {
    "deletable": true,
    "editable": true
   },
   "source": [
    "![](https://github.com/watson-developer-cloud/doc-tutorial-downloads/raw/master/visual-recognition/fruitbowl.jpg)"
   ]
  },
  {
   "cell_type": "code",
   "execution_count": 4,
   "metadata": {
    "collapsed": true,
    "deletable": true,
    "editable": true
   },
   "outputs": [],
   "source": [
    "import requests\n",
    "url=\"https://gateway-a.watsonplatform.net/visual-recognition/api/v3/classify?\"+\\\n",
    "    \"api_key=\"+api_key+\"&\"+\\\n",
    "    \"url=https://github.com/watson-developer-cloud/doc-tutorial-downloads/raw/master/visual-recognition/fruitbowl.jpg&\"+\\\n",
    "    \"version=2016-05-19\""
   ]
  },
  {
   "cell_type": "code",
   "execution_count": 5,
   "metadata": {
    "collapsed": false,
    "deletable": true,
    "editable": true
   },
   "outputs": [],
   "source": [
    "r = requests.get(url)"
   ]
  },
  {
   "cell_type": "code",
   "execution_count": 6,
   "metadata": {
    "collapsed": false,
    "deletable": true,
    "editable": true
   },
   "outputs": [
    {
     "data": {
      "text/plain": [
       "u'{\\n    \"custom_classes\": 0,\\n    \"images\": [\\n        {\\n            \"classifiers\": [\\n                {\\n                    \"classes\": [\\n                        {\\n                            \"class\": \"banana\",\\n                            \"score\": 0.804,\\n                            \"type_hierarchy\": \"/fruit/banana\"\\n                        },\\n                        {\\n                            \"class\": \"fruit\",\\n                            \"score\": 0.921\\n                        },\\n                        {\\n                            \"class\": \"mango\",\\n                            \"score\": 0.53,\\n                            \"type_hierarchy\": \"/fruit/mango\"\\n                        },\\n                        {\\n                            \"class\": \"olive color\",\\n                            \"score\": 0.95\\n                        },\\n                        {\\n                            \"class\": \"olive green color\",\\n                            \"score\": 0.737\\n                        }\\n                    ],\\n                    \"classifier_id\": \"default\",\\n                    \"name\": \"default\"\\n                }\\n            ],\\n            \"resolved_url\": \"https://raw.githubusercontent.com/watson-developer-cloud/doc-tutorial-downloads/master/visual-recognition/fruitbowl.jpg\",\\n            \"source_url\": \"https://github.com/watson-developer-cloud/doc-tutorial-downloads/raw/master/visual-recognition/fruitbowl.jpg\"\\n        }\\n    ],\\n    \"images_processed\": 1\\n}\\n'"
      ]
     },
     "execution_count": 6,
     "metadata": {},
     "output_type": "execute_result"
    }
   ],
   "source": [
    "r.text"
   ]
  },
  {
   "cell_type": "code",
   "execution_count": 7,
   "metadata": {
    "collapsed": false,
    "deletable": true,
    "editable": true
   },
   "outputs": [
    {
     "name": "stdout",
     "output_type": "stream",
     "text": [
      "{\n",
      "    \"custom_classes\": 0,\n",
      "    \"images\": [\n",
      "        {\n",
      "            \"classifiers\": [\n",
      "                {\n",
      "                    \"classes\": [\n",
      "                        {\n",
      "                            \"class\": \"banana\",\n",
      "                            \"score\": 0.804,\n",
      "                            \"type_hierarchy\": \"/fruit/banana\"\n",
      "                        },\n",
      "                        {\n",
      "                            \"class\": \"fruit\",\n",
      "                            \"score\": 0.921\n",
      "                        },\n",
      "                        {\n",
      "                            \"class\": \"mango\",\n",
      "                            \"score\": 0.53,\n",
      "                            \"type_hierarchy\": \"/fruit/mango\"\n",
      "                        },\n",
      "                        {\n",
      "                            \"class\": \"olive color\",\n",
      "                            \"score\": 0.95\n",
      "                        },\n",
      "                        {\n",
      "                            \"class\": \"olive green color\",\n",
      "                            \"score\": 0.737\n",
      "                        }\n",
      "                    ],\n",
      "                    \"classifier_id\": \"default\",\n",
      "                    \"name\": \"default\"\n",
      "                }\n",
      "            ],\n",
      "            \"resolved_url\": \"https://raw.githubusercontent.com/watson-developer-cloud/doc-tutorial-downloads/master/visual-recognition/fruitbowl.jpg\",\n",
      "            \"source_url\": \"https://github.com/watson-developer-cloud/doc-tutorial-downloads/raw/master/visual-recognition/fruitbowl.jpg\"\n",
      "        }\n",
      "    ],\n",
      "    \"images_processed\": 1\n",
      "}\n",
      "\n"
     ]
    }
   ],
   "source": [
    "print(r.text)"
   ]
  },
  {
   "cell_type": "code",
   "execution_count": 8,
   "metadata": {
    "collapsed": false,
    "deletable": true,
    "editable": true
   },
   "outputs": [
    {
     "data": {
      "text/plain": [
       "{u'custom_classes': 0,\n",
       " u'images': [{u'classifiers': [{u'classes': [{u'class': u'banana',\n",
       "       u'score': 0.804,\n",
       "       u'type_hierarchy': u'/fruit/banana'},\n",
       "      {u'class': u'fruit', u'score': 0.921},\n",
       "      {u'class': u'mango', u'score': 0.53, u'type_hierarchy': u'/fruit/mango'},\n",
       "      {u'class': u'olive color', u'score': 0.95},\n",
       "      {u'class': u'olive green color', u'score': 0.737}],\n",
       "     u'classifier_id': u'default',\n",
       "     u'name': u'default'}],\n",
       "   u'resolved_url': u'https://raw.githubusercontent.com/watson-developer-cloud/doc-tutorial-downloads/master/visual-recognition/fruitbowl.jpg',\n",
       "   u'source_url': u'https://github.com/watson-developer-cloud/doc-tutorial-downloads/raw/master/visual-recognition/fruitbowl.jpg'}],\n",
       " u'images_processed': 1}"
      ]
     },
     "execution_count": 8,
     "metadata": {},
     "output_type": "execute_result"
    }
   ],
   "source": [
    "import json\n",
    "rr = json.loads(r.text)\n",
    "rr"
   ]
  },
  {
   "cell_type": "code",
   "execution_count": null,
   "metadata": {
    "collapsed": true,
    "deletable": true,
    "editable": true
   },
   "outputs": [],
   "source": []
  },
  {
   "cell_type": "code",
   "execution_count": null,
   "metadata": {
    "collapsed": true
   },
   "outputs": [],
   "source": []
  }
 ],
 "metadata": {
  "kernelspec": {
   "display_name": "Python 2",
   "language": "python",
   "name": "python2"
  },
  "language_info": {
   "codemirror_mode": {
    "name": "ipython",
    "version": 2
   },
   "file_extension": ".py",
   "mimetype": "text/x-python",
   "name": "python",
   "nbconvert_exporter": "python",
   "pygments_lexer": "ipython2",
   "version": "2.7.13"
  }
 },
 "nbformat": 4,
 "nbformat_minor": 2
}
