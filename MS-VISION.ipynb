{
 "cells": [
  {
   "cell_type": "code",
   "execution_count": 9,
   "metadata": {
    "collapsed": false
   },
   "outputs": [
    {
     "data": {
      "text/plain": [
       "{'key': 'XXXXXXXXXXXXXX'}"
      ]
     },
     "execution_count": 9,
     "metadata": {},
     "output_type": "execute_result"
    }
   ],
   "source": [
    "#%%file ../creds/ms-vision-auth.json\n",
    "{\n",
    "    \"key\": \"XXXXXXXXXXXXXX\"\n",
    "}"
   ]
  },
  {
   "cell_type": "code",
   "execution_count": 10,
   "metadata": {
    "collapsed": true
   },
   "outputs": [],
   "source": [
    "import json\n",
    "with open('../creds/ms-vision-auth.json') as f: auth = json.load(f)\n",
    "subscription_key = auth['key']"
   ]
  },
  {
   "cell_type": "code",
   "execution_count": 11,
   "metadata": {
    "collapsed": true
   },
   "outputs": [],
   "source": [
    "body='{\"url\":\"https://upload.wikimedia.org/wikipedia/commons/a/a1/Alan_Turing_Aged_16.jpg\"}'\n",
    "details='Celebrities'"
   ]
  },
  {
   "cell_type": "code",
   "execution_count": 12,
   "metadata": {
    "collapsed": false
   },
   "outputs": [
    {
     "name": "stdout",
     "output_type": "stream",
     "text": [
      "{\"categories\":[{\"name\":\"people_\",\"score\":0.68359375,\"detail\":{\"celebrities\":[{\"name\":\"Alan Turing\",\"faceRectangle\":{\"left\":178,\"top\":181,\"width\":232,\"height\":232},\"confidence\":0.999886036}]}}],\"requestId\":\"cf9518eb-3688-42f8-b817-77979c0a4f5a\",\"metadata\":{\"width\":707,\"height\":919,\"format\":\"Jpeg\"}}\n"
     ]
    }
   ],
   "source": [
    "########### Python 2.7 #############\n",
    "import httplib, urllib, base64\n",
    "\n",
    "headers = {\n",
    "    # Request headers\n",
    "    'Content-Type': 'application/json',\n",
    "    'Ocp-Apim-Subscription-Key': subscription_key,\n",
    "}\n",
    "\n",
    "params = urllib.urlencode({\n",
    "    # Request parameters\n",
    "    'visualFeatures': 'Categories',\n",
    "    'details': details,\n",
    "    'language': 'en',\n",
    "})\n",
    "\n",
    "try:\n",
    "    conn = httplib.HTTPSConnection('westus.api.cognitive.microsoft.com')\n",
    "    conn.request(\"POST\", \"/vision/v1.0/analyze?%s\" % params, body, headers)\n",
    "    response = conn.getresponse()\n",
    "    data = response.read()\n",
    "    print(data)\n",
    "    conn.close()\n",
    "except Exception as e:\n",
    "    print(\"[Errno {0}] {1}\".format(e.errno, e.strerror))\n",
    "\n",
    "####################################"
   ]
  },
  {
   "cell_type": "code",
   "execution_count": null,
   "metadata": {
    "collapsed": true
   },
   "outputs": [],
   "source": []
  }
 ],
 "metadata": {
  "kernelspec": {
   "display_name": "Python 2",
   "language": "python",
   "name": "python2"
  },
  "language_info": {
   "codemirror_mode": {
    "name": "ipython",
    "version": 2
   },
   "file_extension": ".py",
   "mimetype": "text/x-python",
   "name": "python",
   "nbconvert_exporter": "python",
   "pygments_lexer": "ipython2",
   "version": "2.7.13"
  }
 },
 "nbformat": 4,
 "nbformat_minor": 2
}
