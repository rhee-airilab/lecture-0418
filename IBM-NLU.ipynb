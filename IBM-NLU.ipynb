{
 "cells": [
  {
   "cell_type": "code",
   "execution_count": 8,
   "metadata": {
    "collapsed": false,
    "deletable": true,
    "editable": true,
    "scrolled": true
   },
   "outputs": [
    {
     "name": "stdout",
     "output_type": "stream",
     "text": [
      "Writing ../creds/ibm-nlu-auth.json\n"
     ]
    }
   ],
   "source": [
    "#%%file ../creds/ibm-nlu-auth.json\n",
    "{\n",
    "  \"url\": \"https://gateway.watsonplatform.net/natural-language-understanding/api\",\n",
    "  \"username\": \"27ea65d9-a141-4372-8261-c9ea8cc2653f\",\n",
    "  \"password\": \"XXXXXXX\"\n",
    "}"
   ]
  },
  {
   "cell_type": "code",
   "execution_count": 9,
   "metadata": {
    "collapsed": false,
    "deletable": true,
    "editable": true
   },
   "outputs": [
    {
     "name": "stdout",
     "output_type": "stream",
     "text": [
      "Overwriting parameters.json\n"
     ]
    }
   ],
   "source": [
    "%%file parameters.json\n",
    "{\n",
    "  \"text\": \"IBM is an American multinational technology company headquartered in Armonk, New York, United States, with operations in over 170 countries.\",\n",
    "  \"features\": {\n",
    "    \"entities\": {\n",
    "      \"emotion\": true,\n",
    "      \"sentiment\": true,\n",
    "      \"limit\": 2\n",
    "    },\n",
    "    \"keywords\": {\n",
    "      \"emotion\": true,\n",
    "      \"sentiment\": true,\n",
    "      \"limit\": 2\n",
    "    }\n",
    "  }\n",
    "}"
   ]
  },
  {
   "cell_type": "code",
   "execution_count": 11,
   "metadata": {
    "collapsed": true,
    "deletable": true,
    "editable": true
   },
   "outputs": [],
   "source": [
    "import json\n",
    "with open('../creds/ibm-nlu-auth.json') as f: auth = json.load(f)\n",
    "username = auth['username']\n",
    "password = auth['password']"
   ]
  },
  {
   "cell_type": "code",
   "execution_count": 12,
   "metadata": {
    "collapsed": false,
    "deletable": true,
    "editable": true
   },
   "outputs": [
    {
     "name": "stdout",
     "output_type": "stream",
     "text": [
      "{\n",
      "  \"keywords\": [\n",
      "    {\n",
      "      \"text\": \"American multinational technology\",\n",
      "      \"sentiment\": {\n",
      "        \"score\": 0.0\n",
      "      },\n",
      "      \"relevance\": 0.993518,\n",
      "      \"emotion\": {\n",
      "        \"sadness\": 0.387745,\n",
      "        \"joy\": 0.067126,\n",
      "        \"fear\": 0.094837,\n",
      "        \"disgust\": 0.318284,\n",
      "        \"anger\": 0.178339\n",
      "      }\n",
      "    },\n",
      "    {\n",
      "      \"text\": \"New York\",\n",
      "      \"sentiment\": {\n",
      "        \"score\": 0.0\n",
      "      },\n",
      "      \"relevance\": 0.613816,\n",
      "      \"emotion\": {\n",
      "        \"sadness\": 0.328457,\n",
      "        \"joy\": 0.244174,\n",
      "        \"fear\": 0.065399,\n",
      "        \"disgust\": 0.065238,\n",
      "        \"anger\": 0.167971\n",
      "      }\n",
      "    }\n",
      "  ],\n",
      "  \"entities\": [\n",
      "    {\n",
      "      \"type\": \"Company\",\n",
      "      \"text\": \"IBM\",\n",
      "      \"sentiment\": {\n",
      "        \"score\": 0.0\n",
      "      },\n",
      "      \"relevance\": 0.33,\n",
      "      \"emotion\": {\n",
      "        \"sadness\": 0.387745,\n",
      "        \"joy\": 0.067126,\n",
      "        \"fear\": 0.094837,\n",
      "        \"disgust\": 0.318284,\n",
      "        \"anger\": 0.178339\n",
      "      },\n",
      "      \"disambiguation\": {\n",
      "        \"subtype\": [\n",
      "          \"SoftwareLicense\",\n",
      "          \"OperatingSystemDeveloper\",\n",
      "          \"ProcessorManufacturer\",\n",
      "          \"SoftwareDeveloper\",\n",
      "          \"CompanyFounder\",\n",
      "          \"ProgrammingLanguageDesigner\",\n",
      "          \"ProgrammingLanguageDeveloper\"\n",
      "        ],\n",
      "        \"name\": \"IBM\",\n",
      "        \"dbpedia_resource\": \"http://dbpedia.org/resource/IBM\"\n",
      "      },\n",
      "      \"count\": 1\n",
      "    }\n",
      "  ],\n",
      "  \"language\": \"en\"\n",
      "}"
     ]
    }
   ],
   "source": [
    "!curl -X POST \\\n",
    "-H \"Content-Type: application/json\" \\\n",
    "-u \"{username}\":\"{password}\" \\\n",
    "-d @parameters.json \"https://gateway.watsonplatform.net/natural-language-understanding/api/v1/analyze?version=2017-02-27\""
   ]
  },
  {
   "cell_type": "code",
   "execution_count": null,
   "metadata": {
    "collapsed": true,
    "deletable": true,
    "editable": true
   },
   "outputs": [],
   "source": []
  }
 ],
 "metadata": {
  "kernelspec": {
   "display_name": "Python 2",
   "language": "python",
   "name": "python2"
  },
  "language_info": {
   "codemirror_mode": {
    "name": "ipython",
    "version": 2
   },
   "file_extension": ".py",
   "mimetype": "text/x-python",
   "name": "python",
   "nbconvert_exporter": "python",
   "pygments_lexer": "ipython2",
   "version": "2.7.13"
  }
 },
 "nbformat": 4,
 "nbformat_minor": 2
}
